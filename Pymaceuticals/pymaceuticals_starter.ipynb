{
 "cells": [
  {
   "cell_type": "markdown",
   "metadata": {},
   "source": [
    "## Observations and Insights "
   ]
  },
  {
   "cell_type": "markdown",
   "metadata": {},
   "source": []
  },
  {
   "cell_type": "code",
   "execution_count": 1,
   "metadata": {},
   "outputs": [
    {
     "data": {
      "text/html": [
       "<div>\n",
       "<style scoped>\n",
       "    .dataframe tbody tr th:only-of-type {\n",
       "        vertical-align: middle;\n",
       "    }\n",
       "\n",
       "    .dataframe tbody tr th {\n",
       "        vertical-align: top;\n",
       "    }\n",
       "\n",
       "    .dataframe thead th {\n",
       "        text-align: right;\n",
       "    }\n",
       "</style>\n",
       "<table border=\"1\" class=\"dataframe\">\n",
       "  <thead>\n",
       "    <tr style=\"text-align: right;\">\n",
       "      <th></th>\n",
       "      <th>Mouse ID</th>\n",
       "      <th>Timepoint</th>\n",
       "      <th>Tumor Volume (mm3)</th>\n",
       "      <th>Metastatic Sites</th>\n",
       "      <th>Drug Regimen</th>\n",
       "      <th>Sex</th>\n",
       "      <th>Age_months</th>\n",
       "      <th>Weight (g)</th>\n",
       "    </tr>\n",
       "  </thead>\n",
       "  <tbody>\n",
       "    <tr>\n",
       "      <th>0</th>\n",
       "      <td>b128</td>\n",
       "      <td>0</td>\n",
       "      <td>45.000000</td>\n",
       "      <td>0</td>\n",
       "      <td>Capomulin</td>\n",
       "      <td>Female</td>\n",
       "      <td>9</td>\n",
       "      <td>22</td>\n",
       "    </tr>\n",
       "    <tr>\n",
       "      <th>1</th>\n",
       "      <td>b128</td>\n",
       "      <td>5</td>\n",
       "      <td>45.651331</td>\n",
       "      <td>0</td>\n",
       "      <td>Capomulin</td>\n",
       "      <td>Female</td>\n",
       "      <td>9</td>\n",
       "      <td>22</td>\n",
       "    </tr>\n",
       "    <tr>\n",
       "      <th>2</th>\n",
       "      <td>b128</td>\n",
       "      <td>10</td>\n",
       "      <td>43.270852</td>\n",
       "      <td>0</td>\n",
       "      <td>Capomulin</td>\n",
       "      <td>Female</td>\n",
       "      <td>9</td>\n",
       "      <td>22</td>\n",
       "    </tr>\n",
       "    <tr>\n",
       "      <th>3</th>\n",
       "      <td>b128</td>\n",
       "      <td>15</td>\n",
       "      <td>43.784893</td>\n",
       "      <td>0</td>\n",
       "      <td>Capomulin</td>\n",
       "      <td>Female</td>\n",
       "      <td>9</td>\n",
       "      <td>22</td>\n",
       "    </tr>\n",
       "    <tr>\n",
       "      <th>4</th>\n",
       "      <td>b128</td>\n",
       "      <td>20</td>\n",
       "      <td>42.731552</td>\n",
       "      <td>0</td>\n",
       "      <td>Capomulin</td>\n",
       "      <td>Female</td>\n",
       "      <td>9</td>\n",
       "      <td>22</td>\n",
       "    </tr>\n",
       "  </tbody>\n",
       "</table>\n",
       "</div>"
      ],
      "text/plain": [
       "  Mouse ID  Timepoint  Tumor Volume (mm3)  Metastatic Sites Drug Regimen  \\\n",
       "0     b128          0           45.000000                 0    Capomulin   \n",
       "1     b128          5           45.651331                 0    Capomulin   \n",
       "2     b128         10           43.270852                 0    Capomulin   \n",
       "3     b128         15           43.784893                 0    Capomulin   \n",
       "4     b128         20           42.731552                 0    Capomulin   \n",
       "\n",
       "      Sex  Age_months  Weight (g)  \n",
       "0  Female           9          22  \n",
       "1  Female           9          22  \n",
       "2  Female           9          22  \n",
       "3  Female           9          22  \n",
       "4  Female           9          22  "
      ]
     },
     "execution_count": 1,
     "metadata": {},
     "output_type": "execute_result"
    }
   ],
   "source": [
    "# Dependencies and Setup\n",
    "import matplotlib.pyplot as plt\n",
    "import pandas as pd\n",
    "import scipy.stats as st\n",
    "\n",
    "# Study data files\n",
    "mouse_metadata_path = \"data/Mouse_metadata.csv\"\n",
    "study_results_path = \"data/Study_results.csv\"\n",
    "\n",
    "# Read the mouse data and the study results\n",
    "mouse_metadata = pd.read_csv(mouse_metadata_path)\n",
    "study_results = pd.read_csv(study_results_path)\n",
    "\n",
    "# Combine the data into a single dataset\n",
    "complete_data=pd.merge(study_results, mouse_metadata, how='outer', on='Mouse ID')\n",
    "\n",
    "# Display the data table for preview\n",
    "complete_data.head()\n",
    "                \n"
   ]
  },
  {
   "cell_type": "code",
   "execution_count": 2,
   "metadata": {},
   "outputs": [
    {
     "data": {
      "text/plain": [
       "g989    13\n",
       "b879    10\n",
       "p438    10\n",
       "e584    10\n",
       "i901    10\n",
       "        ..\n",
       "x336     1\n",
       "b447     1\n",
       "o848     1\n",
       "u153     1\n",
       "t573     1\n",
       "Name: Mouse ID, Length: 249, dtype: int64"
      ]
     },
     "execution_count": 2,
     "metadata": {},
     "output_type": "execute_result"
    }
   ],
   "source": [
    "# Checking the number of mice.\n",
    "complete_data['Mouse ID'].value_counts()"
   ]
  },
  {
   "cell_type": "code",
   "execution_count": 3,
   "metadata": {},
   "outputs": [
    {
     "name": "stdout",
     "output_type": "stream",
     "text": [
      "Duplicate Rows based on Mouse ID and Timepoint columns are:\n",
      "    Mouse ID  Timepoint  Tumor Volume (mm3)  Metastatic Sites Drug Regimen  \\\n",
      "861     g989          0           45.000000                 0     Propriva   \n",
      "863     g989          5           47.570392                 0     Propriva   \n",
      "865     g989         10           49.880528                 0     Propriva   \n",
      "867     g989         15           53.442020                 0     Propriva   \n",
      "869     g989         20           54.657650                 1     Propriva   \n",
      "\n",
      "        Sex  Age_months  Weight (g)  \n",
      "861  Female          21          26  \n",
      "863  Female          21          26  \n",
      "865  Female          21          26  \n",
      "867  Female          21          26  \n",
      "869  Female          21          26  \n"
     ]
    }
   ],
   "source": [
    "# Getting the duplicate mice by ID number that shows up for Mouse ID and Timepoint. \n",
    "#From: https://thispointer.com/pandas-find-duplicate-rows-in-a-dataframe-based-on-all-or-selected-columns-using-dataframe-duplicated-in-python/\n",
    "\n",
    "duplicate_rows = complete_data[complete_data.duplicated(['Mouse ID', 'Timepoint'])]\n",
    "print(\"Duplicate Rows based on Mouse ID and Timepoint columns are:\", duplicate_rows, sep='\\n')"
   ]
  },
  {
   "cell_type": "code",
   "execution_count": 4,
   "metadata": {},
   "outputs": [],
   "source": [
    "# Optional: Get all the data for the duplicate mouse ID. \n",
    "#SEE ABOVE\n"
   ]
  },
  {
   "cell_type": "code",
   "execution_count": 5,
   "metadata": {},
   "outputs": [],
   "source": [
    "# Create a clean DataFrame by dropping the duplicate mouse by its ID.\n",
    "mouse_to_drop=complete_data[complete_data['Mouse ID'] == 'g989'].index\n",
    "clean_complete_data=complete_data.drop(mouse_to_drop)\n"
   ]
  },
  {
   "cell_type": "code",
   "execution_count": 6,
   "metadata": {},
   "outputs": [
    {
     "data": {
      "text/plain": [
       "b879    10\n",
       "s508    10\n",
       "w422    10\n",
       "v991    10\n",
       "w575    10\n",
       "        ..\n",
       "u153     1\n",
       "o848     1\n",
       "b447     1\n",
       "x336     1\n",
       "t573     1\n",
       "Name: Mouse ID, Length: 248, dtype: int64"
      ]
     },
     "execution_count": 6,
     "metadata": {},
     "output_type": "execute_result"
    }
   ],
   "source": [
    "# Checking the number of mice in the clean DataFrame.\n",
    "clean_complete_data['Mouse ID'].value_counts()"
   ]
  },
  {
   "cell_type": "markdown",
   "metadata": {},
   "source": [
    "## Summary Statistics"
   ]
  },
  {
   "cell_type": "code",
   "execution_count": 7,
   "metadata": {},
   "outputs": [
    {
     "data": {
      "text/plain": [
       "array(['Capomulin', 'Ketapril', 'Naftisol', 'Infubinol', 'Stelasyn',\n",
       "       'Ramicane', 'Zoniferol', 'Propriva', 'Placebo', 'Ceftamin'],\n",
       "      dtype=object)"
      ]
     },
     "execution_count": 7,
     "metadata": {},
     "output_type": "execute_result"
    }
   ],
   "source": [
    "drug_regs=clean_complete_data['Drug Regimen'].unique()\n",
    "drug_regs\n"
   ]
  },
  {
   "cell_type": "code",
   "execution_count": 8,
   "metadata": {},
   "outputs": [
    {
     "data": {
      "text/html": [
       "<div>\n",
       "<style scoped>\n",
       "    .dataframe tbody tr th:only-of-type {\n",
       "        vertical-align: middle;\n",
       "    }\n",
       "\n",
       "    .dataframe tbody tr th {\n",
       "        vertical-align: top;\n",
       "    }\n",
       "\n",
       "    .dataframe thead th {\n",
       "        text-align: right;\n",
       "    }\n",
       "</style>\n",
       "<table border=\"1\" class=\"dataframe\">\n",
       "  <thead>\n",
       "    <tr style=\"text-align: right;\">\n",
       "      <th></th>\n",
       "      <th>Mean Tumor Vol.</th>\n",
       "      <th>Median Tumor Vol.</th>\n",
       "      <th>Tumor Vol. Variance</th>\n",
       "      <th>Tumor Vol. Std. Dev.</th>\n",
       "      <th>Tumor Vol. SEM</th>\n",
       "    </tr>\n",
       "    <tr>\n",
       "      <th>Drug Regimen</th>\n",
       "      <th></th>\n",
       "      <th></th>\n",
       "      <th></th>\n",
       "      <th></th>\n",
       "      <th></th>\n",
       "    </tr>\n",
       "  </thead>\n",
       "  <tbody>\n",
       "    <tr>\n",
       "      <th>Capomulin</th>\n",
       "      <td>40.675741</td>\n",
       "      <td>41.557809</td>\n",
       "      <td>24.947764</td>\n",
       "      <td>4.994774</td>\n",
       "      <td>0.329346</td>\n",
       "    </tr>\n",
       "    <tr>\n",
       "      <th>Ceftamin</th>\n",
       "      <td>52.591172</td>\n",
       "      <td>51.776157</td>\n",
       "      <td>39.290177</td>\n",
       "      <td>6.268188</td>\n",
       "      <td>0.469821</td>\n",
       "    </tr>\n",
       "    <tr>\n",
       "      <th>Infubinol</th>\n",
       "      <td>52.884795</td>\n",
       "      <td>51.820584</td>\n",
       "      <td>43.128684</td>\n",
       "      <td>6.567243</td>\n",
       "      <td>0.492236</td>\n",
       "    </tr>\n",
       "    <tr>\n",
       "      <th>Ketapril</th>\n",
       "      <td>55.235638</td>\n",
       "      <td>53.698743</td>\n",
       "      <td>68.553577</td>\n",
       "      <td>8.279709</td>\n",
       "      <td>0.603860</td>\n",
       "    </tr>\n",
       "    <tr>\n",
       "      <th>Naftisol</th>\n",
       "      <td>54.331565</td>\n",
       "      <td>52.509285</td>\n",
       "      <td>66.173479</td>\n",
       "      <td>8.134708</td>\n",
       "      <td>0.596466</td>\n",
       "    </tr>\n",
       "    <tr>\n",
       "      <th>Placebo</th>\n",
       "      <td>54.033581</td>\n",
       "      <td>52.288934</td>\n",
       "      <td>61.168083</td>\n",
       "      <td>7.821003</td>\n",
       "      <td>0.581331</td>\n",
       "    </tr>\n",
       "    <tr>\n",
       "      <th>Propriva</th>\n",
       "      <td>52.320930</td>\n",
       "      <td>50.446266</td>\n",
       "      <td>43.852013</td>\n",
       "      <td>6.622085</td>\n",
       "      <td>0.544332</td>\n",
       "    </tr>\n",
       "    <tr>\n",
       "      <th>Ramicane</th>\n",
       "      <td>40.216745</td>\n",
       "      <td>40.673236</td>\n",
       "      <td>23.486704</td>\n",
       "      <td>4.846308</td>\n",
       "      <td>0.320955</td>\n",
       "    </tr>\n",
       "    <tr>\n",
       "      <th>Stelasyn</th>\n",
       "      <td>54.233149</td>\n",
       "      <td>52.431737</td>\n",
       "      <td>59.450562</td>\n",
       "      <td>7.710419</td>\n",
       "      <td>0.573111</td>\n",
       "    </tr>\n",
       "    <tr>\n",
       "      <th>Zoniferol</th>\n",
       "      <td>53.236507</td>\n",
       "      <td>51.818479</td>\n",
       "      <td>48.533355</td>\n",
       "      <td>6.966589</td>\n",
       "      <td>0.516398</td>\n",
       "    </tr>\n",
       "  </tbody>\n",
       "</table>\n",
       "</div>"
      ],
      "text/plain": [
       "              Mean Tumor Vol.  Median Tumor Vol.  Tumor Vol. Variance  \\\n",
       "Drug Regimen                                                            \n",
       "Capomulin           40.675741          41.557809            24.947764   \n",
       "Ceftamin            52.591172          51.776157            39.290177   \n",
       "Infubinol           52.884795          51.820584            43.128684   \n",
       "Ketapril            55.235638          53.698743            68.553577   \n",
       "Naftisol            54.331565          52.509285            66.173479   \n",
       "Placebo             54.033581          52.288934            61.168083   \n",
       "Propriva            52.320930          50.446266            43.852013   \n",
       "Ramicane            40.216745          40.673236            23.486704   \n",
       "Stelasyn            54.233149          52.431737            59.450562   \n",
       "Zoniferol           53.236507          51.818479            48.533355   \n",
       "\n",
       "              Tumor Vol. Std. Dev.  Tumor Vol. SEM  \n",
       "Drug Regimen                                        \n",
       "Capomulin                 4.994774        0.329346  \n",
       "Ceftamin                  6.268188        0.469821  \n",
       "Infubinol                 6.567243        0.492236  \n",
       "Ketapril                  8.279709        0.603860  \n",
       "Naftisol                  8.134708        0.596466  \n",
       "Placebo                   7.821003        0.581331  \n",
       "Propriva                  6.622085        0.544332  \n",
       "Ramicane                  4.846308        0.320955  \n",
       "Stelasyn                  7.710419        0.573111  \n",
       "Zoniferol                 6.966589        0.516398  "
      ]
     },
     "execution_count": 8,
     "metadata": {},
     "output_type": "execute_result"
    }
   ],
   "source": [
    "# Generate a summary statistics table of mean, median, variance, standard deviation, and SEM of the tumor volume for each regimen\n",
    "\n",
    "# Use groupby and summary statistical methods to calculate the following properties of each drug regimen: \n",
    "med_grouped_cc_df=clean_complete_data.groupby(['Drug Regimen'])\n",
    "#med_grouped_cc_df.count()\n",
    "\n",
    "# mean, median, variance, standard deviation, and SEM of the tumor volume. \n",
    "avg_tumorvol=med_grouped_cc_df['Tumor Volume (mm3)'].mean() \n",
    "med_tumorvol=med_grouped_cc_df['Tumor Volume (mm3)'].median()\n",
    "var_tumorvol=med_grouped_cc_df['Tumor Volume (mm3)'].var()\n",
    "std_tumorvol=med_grouped_cc_df['Tumor Volume (mm3)'].std()\n",
    "sem_tumorvol=med_grouped_cc_df['Tumor Volume (mm3)'].sem()\n",
    "\n",
    "\n",
    "\n",
    "# Assemble the resulting series into a single summary dataframe.\n",
    "summary_grouped_df=pd.DataFrame({'Mean Tumor Vol.': avg_tumorvol,\n",
    "                                'Median Tumor Vol.': med_tumorvol,\n",
    "                                'Tumor Vol. Variance': var_tumorvol,\n",
    "                                'Tumor Vol. Std. Dev.': std_tumorvol,\n",
    "                                'Tumor Vol. SEM': sem_tumorvol})\n",
    "# Generate a summary statistics table of mean, median, variance, standard deviation, and SEM of the tumor volume for each regimen\n",
    "summary_grouped_df"
   ]
  },
  {
   "cell_type": "code",
   "execution_count": 9,
   "metadata": {},
   "outputs": [
    {
     "data": {
      "text/html": [
       "<div>\n",
       "<style scoped>\n",
       "    .dataframe tbody tr th:only-of-type {\n",
       "        vertical-align: middle;\n",
       "    }\n",
       "\n",
       "    .dataframe tbody tr th {\n",
       "        vertical-align: top;\n",
       "    }\n",
       "\n",
       "    .dataframe thead tr th {\n",
       "        text-align: left;\n",
       "    }\n",
       "\n",
       "    .dataframe thead tr:last-of-type th {\n",
       "        text-align: right;\n",
       "    }\n",
       "</style>\n",
       "<table border=\"1\" class=\"dataframe\">\n",
       "  <thead>\n",
       "    <tr>\n",
       "      <th></th>\n",
       "      <th colspan=\"5\" halign=\"left\">Tumor Volume (mm3)</th>\n",
       "    </tr>\n",
       "    <tr>\n",
       "      <th></th>\n",
       "      <th>mean</th>\n",
       "      <th>median</th>\n",
       "      <th>var</th>\n",
       "      <th>std</th>\n",
       "      <th>sem</th>\n",
       "    </tr>\n",
       "    <tr>\n",
       "      <th>Drug Regimen</th>\n",
       "      <th></th>\n",
       "      <th></th>\n",
       "      <th></th>\n",
       "      <th></th>\n",
       "      <th></th>\n",
       "    </tr>\n",
       "  </thead>\n",
       "  <tbody>\n",
       "    <tr>\n",
       "      <th>Capomulin</th>\n",
       "      <td>40.675741</td>\n",
       "      <td>41.557809</td>\n",
       "      <td>24.947764</td>\n",
       "      <td>4.994774</td>\n",
       "      <td>0.329346</td>\n",
       "    </tr>\n",
       "    <tr>\n",
       "      <th>Ceftamin</th>\n",
       "      <td>52.591172</td>\n",
       "      <td>51.776157</td>\n",
       "      <td>39.290177</td>\n",
       "      <td>6.268188</td>\n",
       "      <td>0.469821</td>\n",
       "    </tr>\n",
       "    <tr>\n",
       "      <th>Infubinol</th>\n",
       "      <td>52.884795</td>\n",
       "      <td>51.820584</td>\n",
       "      <td>43.128684</td>\n",
       "      <td>6.567243</td>\n",
       "      <td>0.492236</td>\n",
       "    </tr>\n",
       "    <tr>\n",
       "      <th>Ketapril</th>\n",
       "      <td>55.235638</td>\n",
       "      <td>53.698743</td>\n",
       "      <td>68.553577</td>\n",
       "      <td>8.279709</td>\n",
       "      <td>0.603860</td>\n",
       "    </tr>\n",
       "    <tr>\n",
       "      <th>Naftisol</th>\n",
       "      <td>54.331565</td>\n",
       "      <td>52.509285</td>\n",
       "      <td>66.173479</td>\n",
       "      <td>8.134708</td>\n",
       "      <td>0.596466</td>\n",
       "    </tr>\n",
       "    <tr>\n",
       "      <th>Placebo</th>\n",
       "      <td>54.033581</td>\n",
       "      <td>52.288934</td>\n",
       "      <td>61.168083</td>\n",
       "      <td>7.821003</td>\n",
       "      <td>0.581331</td>\n",
       "    </tr>\n",
       "    <tr>\n",
       "      <th>Propriva</th>\n",
       "      <td>52.320930</td>\n",
       "      <td>50.446266</td>\n",
       "      <td>43.852013</td>\n",
       "      <td>6.622085</td>\n",
       "      <td>0.544332</td>\n",
       "    </tr>\n",
       "    <tr>\n",
       "      <th>Ramicane</th>\n",
       "      <td>40.216745</td>\n",
       "      <td>40.673236</td>\n",
       "      <td>23.486704</td>\n",
       "      <td>4.846308</td>\n",
       "      <td>0.320955</td>\n",
       "    </tr>\n",
       "    <tr>\n",
       "      <th>Stelasyn</th>\n",
       "      <td>54.233149</td>\n",
       "      <td>52.431737</td>\n",
       "      <td>59.450562</td>\n",
       "      <td>7.710419</td>\n",
       "      <td>0.573111</td>\n",
       "    </tr>\n",
       "    <tr>\n",
       "      <th>Zoniferol</th>\n",
       "      <td>53.236507</td>\n",
       "      <td>51.818479</td>\n",
       "      <td>48.533355</td>\n",
       "      <td>6.966589</td>\n",
       "      <td>0.516398</td>\n",
       "    </tr>\n",
       "  </tbody>\n",
       "</table>\n",
       "</div>"
      ],
      "text/plain": [
       "             Tumor Volume (mm3)                                          \n",
       "                           mean     median        var       std       sem\n",
       "Drug Regimen                                                             \n",
       "Capomulin             40.675741  41.557809  24.947764  4.994774  0.329346\n",
       "Ceftamin              52.591172  51.776157  39.290177  6.268188  0.469821\n",
       "Infubinol             52.884795  51.820584  43.128684  6.567243  0.492236\n",
       "Ketapril              55.235638  53.698743  68.553577  8.279709  0.603860\n",
       "Naftisol              54.331565  52.509285  66.173479  8.134708  0.596466\n",
       "Placebo               54.033581  52.288934  61.168083  7.821003  0.581331\n",
       "Propriva              52.320930  50.446266  43.852013  6.622085  0.544332\n",
       "Ramicane              40.216745  40.673236  23.486704  4.846308  0.320955\n",
       "Stelasyn              54.233149  52.431737  59.450562  7.710419  0.573111\n",
       "Zoniferol             53.236507  51.818479  48.533355  6.966589  0.516398"
      ]
     },
     "execution_count": 9,
     "metadata": {},
     "output_type": "execute_result"
    }
   ],
   "source": [
    "\n",
    "\n",
    "# Using the aggregation method, produce the same summary statistics in a single line\n",
    "#From https://stackoverflow.com/questions/19078325/naming-returned-columns-in-pandas-aggregate-function\n",
    "df=clean_complete_data.groupby('Drug Regimen').agg({'Tumor Volume (mm3)':['mean', 'median', 'var', 'std','sem']})\n",
    "\n",
    "#WORKS THIS FAR!!!    \n",
    "\n",
    "# Assemble the resulting series into a single summary dataframe.\n",
    "aggregate_summary=pd.DataFrame(df)\n",
    "aggregate_summary"
   ]
  },
  {
   "cell_type": "markdown",
   "metadata": {},
   "source": [
    "## Bar and Pie Charts"
   ]
  },
  {
   "cell_type": "code",
   "execution_count": 10,
   "metadata": {},
   "outputs": [
    {
     "data": {
      "text/plain": [
       "Capomulin    230\n",
       "Ramicane     228\n",
       "Ketapril     188\n",
       "Naftisol     186\n",
       "Zoniferol    182\n",
       "Stelasyn     181\n",
       "Placebo      181\n",
       "Infubinol    178\n",
       "Ceftamin     178\n",
       "Propriva     148\n",
       "Name: Drug Regimen, dtype: int64"
      ]
     },
     "execution_count": 10,
     "metadata": {},
     "output_type": "execute_result"
    }
   ],
   "source": [
    "clean_complete_data['Drug Regimen'].value_counts()"
   ]
  },
  {
   "cell_type": "code",
   "execution_count": 13,
   "metadata": {},
   "outputs": [
    {
     "data": {
      "text/plain": [
       "Text(0, 0.5, 'Number of Unique Mice/Regimen')"
      ]
     },
     "execution_count": 13,
     "metadata": {},
     "output_type": "execute_result"
    },
    {
     "data": {
      "image/png": "[encoded data removed]",
      "text/plain": [
       "<Figure size 864x720 with 1 Axes>"
      ]
     },
     "metadata": {
      "needs_background": "light"
     },
     "output_type": "display_data"
    }
   ],
   "source": [
    "# Generate a bar plot showing the total number of measurements taken on each drug regimen using pandas.\n",
    "num_measure=clean_complete_data['Drug Regimen'].value_counts()\n",
    "num_sorted=num_measure.sort_values( ascending=False)\n",
    "\n",
    "\n",
    "numsort_df=pd.DataFrame(num_sorted)\n",
    "numsort_df=numsort_df.rename(columns={\"Drug Regimen\":\"Count\"})\n",
    "\n",
    "mr=numsort_df.plot(kind='bar', figsize=(12,10), legend=False, fontsize=20, color='b',ylim=(0, max(num_sorted)+25),width=.8)\n",
    "mr.set_xlabel(\"Drug Regimen\")\n",
    "mr.set_ylabel(\"Number of Unique Mice/Regimen\")\n"
   ]
  },
  {
   "cell_type": "code",
   "execution_count": 12,
   "metadata": {},
   "outputs": [
    {
     "data": {
      "text/plain": [
       "Text(0, 0.5, 'Number of Unique Mice/Regimen')"
      ]
     },
     "execution_count": 12,
     "metadata": {},
     "output_type": "execute_result"
    },
    {
     "data": {
      "image/png": "[encoded data removed]",
      "text/plain": [
       "<Figure size 864x720 with 1 Axes>"
      ]
     },
     "metadata": {
      "needs_background": "light"
     },
     "output_type": "display_data"
    }
   ],
   "source": [
    "# Generate a bar plot showing the total number of measurements taken on each drug regimen using pyplot.\n",
    "dnames=['Capomulin', 'Ramicane', 'Ketapril', 'Naftisol', 'Zoniferol', 'Stelasyn', 'Placebo', 'Infubinol', 'Ceftamin', 'Propriva']\n",
    "\n",
    "x_axis=range(len(drug_regs))\n",
    "tick_locations=[value for value in x_axis]\n",
    "plt.figure(figsize= (12,10))\n",
    "plt.rcParams['font.size']='16'\n",
    "plt.bar(x_axis, num_sorted, color='b', alpha=1.0, align=\"center\")\n",
    "plt.xticks(tick_locations, dnames, rotation=\"vertical\")\n",
    "\n",
    "plt.ylim(0, max(num_sorted)+25)\n",
    "plt.xlabel('Drug Regimen')\n",
    "plt.ylabel('Number of Unique Mice/Regimen')\n"
   ]
  },
  {
   "cell_type": "code",
   "execution_count": 14,
   "metadata": {},
   "outputs": [
    {
     "data": {
      "image/png": "[encoded data removed]",
      "text/plain": [
       "<Figure size 720x720 with 1 Axes>"
      ]
     },
     "metadata": {},
     "output_type": "display_data"
    }
   ],
   "source": [
    "# Generate a pie plot showing the distribution of female versus male mice using pandas\n",
    "num_gender=clean_complete_data['Sex'].value_counts()\n",
    "\n",
    "gender_df=pd.DataFrame(num_gender)\n",
    "\n",
    "gr=gender_df.plot.pie(y='Sex', figsize=(10, 10), legend=False, autopct=\"%1.1f%%\")\n"
   ]
  },
  {
   "cell_type": "code",
   "execution_count": 15,
   "metadata": {},
   "outputs": [
    {
     "data": {
      "text/plain": [
       "([<matplotlib.patches.Wedge at 0x241170baef0>,\n",
       "  <matplotlib.patches.Wedge at 0x241170c86d8>],\n",
       " [Text(-0.03308201408261547, 1.0995024239828841, 'Male'),\n",
       "  Text(0.033082014082615095, -1.0995024239828841, 'Female')],\n",
       " [Text(-0.01804473495415389, 0.5997285948997549, '51.0%'),\n",
       "  Text(0.018044734954153686, -0.5997285948997549, '49.0%')])"
      ]
     },
     "execution_count": 15,
     "metadata": {},
     "output_type": "execute_result"
    },
    {
     "data": {
      "image/png": "[encoded data removed]",
      "text/plain": [
       "<Figure size 720x720 with 1 Axes>"
      ]
     },
     "metadata": {},
     "output_type": "display_data"
    }
   ],
   "source": [
    "# Generate a pie plot showing the distribution of female versus male mice using pyplot\n",
    "numbers=gender_df['Sex']\n",
    "labels=['Male', 'Female']\n",
    "\n",
    "plt.figure(figsize=(10,10))\n",
    "plt.ylabel('Sex')\n",
    "plt.pie(numbers, labels=labels, autopct=\"%1.1f%%\" )"
   ]
  },
  {
   "cell_type": "markdown",
   "metadata": {},
   "source": [
    "## Quartiles, Outliers and Boxplots"
   ]
  },
  {
   "cell_type": "code",
   "execution_count": 16,
   "metadata": {},
   "outputs": [
    {
     "data": {
      "text/html": [
       "<div>\n",
       "<style scoped>\n",
       "    .dataframe tbody tr th:only-of-type {\n",
       "        vertical-align: middle;\n",
       "    }\n",
       "\n",
       "    .dataframe tbody tr th {\n",
       "        vertical-align: top;\n",
       "    }\n",
       "\n",
       "    .dataframe thead th {\n",
       "        text-align: right;\n",
       "    }\n",
       "</style>\n",
       "<table border=\"1\" class=\"dataframe\">\n",
       "  <thead>\n",
       "    <tr style=\"text-align: right;\">\n",
       "      <th></th>\n",
       "      <th>Mouse ID</th>\n",
       "      <th>Last Timepoint</th>\n",
       "      <th>Tumor Volume (mm3)</th>\n",
       "      <th>Metastatic Sites</th>\n",
       "      <th>Drug Regimen</th>\n",
       "      <th>Sex</th>\n",
       "      <th>Age_months</th>\n",
       "      <th>Weight (g)</th>\n",
       "    </tr>\n",
       "  </thead>\n",
       "  <tbody>\n",
       "    <tr>\n",
       "      <th>0</th>\n",
       "      <td>a203</td>\n",
       "      <td>45</td>\n",
       "      <td>67.973419</td>\n",
       "      <td>2</td>\n",
       "      <td>Infubinol</td>\n",
       "      <td>Female</td>\n",
       "      <td>20</td>\n",
       "      <td>23</td>\n",
       "    </tr>\n",
       "    <tr>\n",
       "      <th>1</th>\n",
       "      <td>a251</td>\n",
       "      <td>45</td>\n",
       "      <td>65.525743</td>\n",
       "      <td>1</td>\n",
       "      <td>Infubinol</td>\n",
       "      <td>Female</td>\n",
       "      <td>21</td>\n",
       "      <td>25</td>\n",
       "    </tr>\n",
       "    <tr>\n",
       "      <th>2</th>\n",
       "      <td>a262</td>\n",
       "      <td>45</td>\n",
       "      <td>70.717621</td>\n",
       "      <td>4</td>\n",
       "      <td>Placebo</td>\n",
       "      <td>Female</td>\n",
       "      <td>17</td>\n",
       "      <td>29</td>\n",
       "    </tr>\n",
       "    <tr>\n",
       "      <th>3</th>\n",
       "      <td>a275</td>\n",
       "      <td>45</td>\n",
       "      <td>62.999356</td>\n",
       "      <td>3</td>\n",
       "      <td>Ceftamin</td>\n",
       "      <td>Female</td>\n",
       "      <td>20</td>\n",
       "      <td>28</td>\n",
       "    </tr>\n",
       "    <tr>\n",
       "      <th>4</th>\n",
       "      <td>a366</td>\n",
       "      <td>30</td>\n",
       "      <td>63.440686</td>\n",
       "      <td>1</td>\n",
       "      <td>Stelasyn</td>\n",
       "      <td>Female</td>\n",
       "      <td>16</td>\n",
       "      <td>29</td>\n",
       "    </tr>\n",
       "  </tbody>\n",
       "</table>\n",
       "</div>"
      ],
      "text/plain": [
       "  Mouse ID  Last Timepoint  Tumor Volume (mm3)  Metastatic Sites Drug Regimen  \\\n",
       "0     a203              45           67.973419                 2    Infubinol   \n",
       "1     a251              45           65.525743                 1    Infubinol   \n",
       "2     a262              45           70.717621                 4      Placebo   \n",
       "3     a275              45           62.999356                 3     Ceftamin   \n",
       "4     a366              30           63.440686                 1     Stelasyn   \n",
       "\n",
       "      Sex  Age_months  Weight (g)  \n",
       "0  Female          20          23  \n",
       "1  Female          21          25  \n",
       "2  Female          17          29  \n",
       "3  Female          20          28  \n",
       "4  Female          16          29  "
      ]
     },
     "execution_count": 16,
     "metadata": {},
     "output_type": "execute_result"
    }
   ],
   "source": [
    "# Calculate the final tumor volume of each mouse across four of the treatment regimens:  \n",
    "# Capomulin, Ramicane, Infubinol, and Ceftamin\n",
    "\n",
    "# Start by getting the last (greatest) timepoint for each mouse\n",
    "#FROM: https://stackoverflow.com/questions/46665640/filtering-dataframe-based-on-latest-timestamp-for-each-unique-id\n",
    "last_tp=clean_complete_data.groupby('Mouse ID', as_index=False).max()\n",
    "last_tp=last_tp.rename(columns={'Timepoint':'Last Timepoint'})\n",
    "last_tp.head()\n",
    "# Merge this group df with the original dataframe to get the tumor volume at the last timepoint\n",
    "#SEE OUITPUT OF ABOVE"
   ]
  },
  {
   "cell_type": "code",
   "execution_count": 49,
   "metadata": {},
   "outputs": [
    {
     "name": "stdout",
     "output_type": "stream",
     "text": [
      "Capomulin mice with Tumor Vol. below 42.376491720000004 could be outliers.\n",
      "Capomulin mice with Tumor Vol above 49.37251379999999 could be outliers.\n",
      "Capomulin Mice Tumor Vol. sorted in ascending order\n",
      " 239    45.000000\n",
      "24     45.000000\n",
      "61     45.000000\n",
      "208    45.000000\n",
      "180    45.000000\n",
      "174    45.000000\n",
      "121    45.000000\n",
      "226    45.473753\n",
      "83     45.595685\n",
      "19     45.651331\n",
      "204    45.704434\n",
      "163    45.781746\n",
      "220    45.893720\n",
      "115    46.154737\n",
      "64     46.304003\n",
      "87     46.408361\n",
      "124    46.414518\n",
      "162    46.539206\n",
      "183    46.749006\n",
      "66     46.809225\n",
      "192    47.212200\n",
      "169    47.373423\n",
      "80     47.685963\n",
      "108    48.070452\n",
      "85     48.158209\n",
      "Name: Tumor Volume (mm3), dtype: float64\n",
      "Ramicane mice with Tumor Vol. below 42.984251445 could be outliers.\n",
      "Ramicane mice with Tumor Vol above 48.359580925 could be outliers.\n",
      "Ramicane Mice Tumor Vol. sorted in ascending order\n",
      " 244    45.000000\n",
      "7      45.000000\n",
      "10     45.000000\n",
      "217    45.000000\n",
      "177    45.000000\n",
      "119    45.000000\n",
      "45     45.000000\n",
      "96     45.000000\n",
      "76     45.000000\n",
      "77     45.000000\n",
      "91     45.252534\n",
      "6      45.466677\n",
      "126    45.521875\n",
      "168    45.568211\n",
      "166    45.625802\n",
      "33     45.722279\n",
      "157    45.766111\n",
      "70     45.851531\n",
      "93     46.343832\n",
      "235    46.378092\n",
      "52     46.409084\n",
      "158    46.585433\n",
      "12     46.910892\n",
      "37     46.940945\n",
      "190    47.622816\n",
      "Name: Tumor Volume (mm3), dtype: float64\n",
      "Infubinol mice with Tumor Vol. below 36.83290494999999 could be outliers.\n",
      "Infubinol mice with Tumor Vol above 82.74144559000001 could be outliers.\n",
      "Infubinol Mice Tumor Vol. sorted in ascending order\n",
      " 31     45.000000\n",
      "142    45.699331\n",
      "197    46.250112\n",
      "123    47.010364\n",
      "211    50.005138\n",
      "202    51.542431\n",
      "200    54.048608\n",
      "153    54.656549\n",
      "141    55.629428\n",
      "170    55.650681\n",
      "11     57.031862\n",
      "216    58.268442\n",
      "129    60.165180\n",
      "56     60.918767\n",
      "41     60.969711\n",
      "101    62.117279\n",
      "50     62.435404\n",
      "245    62.754451\n",
      "1      65.525743\n",
      "13     66.083066\n",
      "97     66.196912\n",
      "78     67.289621\n",
      "233    67.685569\n",
      "0      67.973419\n",
      "27     72.226731\n",
      "Name: Tumor Volume (mm3), dtype: float64\n",
      "Ceftamin mice with Tumor Vol. below 25.355449580000002 could be outliers.\n",
      "Ceftamin mice with Tumor Vol above 87.66645829999999 could be outliers.\n",
      "Ceftamin Mice Tumor Vol. sorted in ascending order\n",
      " 223    45.000000\n",
      "21     45.000000\n",
      "189    45.000000\n",
      "184    45.000000\n",
      "109    46.784535\n",
      "75     47.784682\n",
      "58     48.722078\n",
      "188    52.925348\n",
      "25     55.742829\n",
      "22     56.057749\n",
      "107    57.918381\n",
      "134    59.741901\n",
      "110    59.851956\n",
      "231    61.386660\n",
      "150    61.433892\n",
      "88     61.849023\n",
      "3      62.999356\n",
      "154    64.192341\n",
      "113    64.299830\n",
      "228    64.634949\n",
      "240    64.729837\n",
      "209    67.527482\n",
      "106    67.748662\n",
      "238    68.594745\n",
      "94     68.923185\n",
      "Name: Tumor Volume (mm3), dtype: float64\n"
     ]
    }
   ],
   "source": [
    "# Put treatments into a list for for loop (and later for plot labels)\n",
    "select_meds=['Capomulin', 'Ramicane', 'Infubinol', 'Ceftamin']\n",
    "\n",
    "# Create empty list to fill with tumor vol data (for plotting)\n",
    "capo=[]\n",
    "rami=[]\n",
    "infu=[]\n",
    "ceft=[]\n",
    "\n",
    "# Calculate the IQR and quantitatively determine if there are any potential outliers. \n",
    "\n",
    "    \n",
    "    # Locate the rows which contain mice on each drug and get the tumor volume\n",
    "selected_mice=last_tp.loc[(last_tp['Drug Regimen']=='Capomulin') | (last_tp['Drug Regimen']=='Ramicane') | (last_tp['Drug Regimen']=='Infubinol') |(last_tp['Drug Regimen']=='Ceftamin')] \n",
    "#selected_mice\n",
    "\n",
    "\n",
    "capo_mice=last_tp.loc[(last_tp['Drug Regimen']=='Capomulin')]\n",
    "rami_mice=last_tp.loc[(last_tp['Drug Regimen']=='Ramicane')]\n",
    "infu_mice=last_tp.loc[(last_tp['Drug Regimen']=='Infubinol')]\n",
    "ceft_mice=last_tp.loc[(last_tp['Drug Regimen']=='Ceftamin')]\n",
    "\n",
    "capo=capo_mice['Tumor Volume (mm3)']\n",
    "rami=rami_mice['Tumor Volume (mm3)']\n",
    "infu=infu_mice['Tumor Volume (mm3)']\n",
    "ceft=ceft_mice['Tumor Volume (mm3)']\n",
    "\n",
    "    # add subset \n",
    "      \n",
    "    # Determine outliers using upper and lower bounds\n",
    "capo_quart=capo.quantile([0.25,.5,.75])\n",
    "capo_lowerq=capo_quart[0.25]\n",
    "capo_upperq=capo_quart[.75]\n",
    "capo_iqr=capo_upperq - capo_lowerq\n",
    "capo_upper_bound=capo_upperq + (1.5*capo_iqr)\n",
    "capo_lower_bound=capo_lowerq - (1.5*capo_iqr)\n",
    "capo_sort=capo.sort_values()\n",
    "print(f\"Capomulin mice with Tumor Vol. below {capo_lower_bound} could be outliers.\")\n",
    "print(f\"Capomulin mice with Tumor Vol above {capo_upper_bound} could be outliers.\")\n",
    "print(f\"Capomulin Mice Tumor Vol. sorted in ascending order\\n {capo_sort}\")   \n",
    "\n",
    "rami_quart=rami.quantile([0.25,.5,.75])\n",
    "rami_lowerq=rami_quart[0.25]\n",
    "rami_upperq=rami_quart[.75]\n",
    "rami_iqr=rami_upperq - rami_lowerq\n",
    "rami_upper_bound=rami_upperq + (1.5*rami_iqr)\n",
    "rami_lower_bound=rami_lowerq - (1.5*rami_iqr)\n",
    "rami_sort=rami.sort_values()\n",
    "print(f\"Ramicane mice with Tumor Vol. below {rami_lower_bound} could be outliers.\")\n",
    "print(f\"Ramicane mice with Tumor Vol above {rami_upper_bound} could be outliers.\")\n",
    "print(f\"Ramicane Mice Tumor Vol. sorted in ascending order\\n {rami_sort}\")\n",
    "\n",
    "infu_quart=infu.quantile([0.25,.5,.75])\n",
    "infu_lowerq=infu_quart[0.25]\n",
    "infu_upperq=infu_quart[.75]\n",
    "infu_iqr=infu_upperq - infu_lowerq\n",
    "infu_upper_bound=infu_upperq + (1.5*infu_iqr)\n",
    "infu_lower_bound=infu_lowerq - (1.5*infu_iqr)\n",
    "infu_sort=infu.sort_values()\n",
    "print(f\"Infubinol mice with Tumor Vol. below {infu_lower_bound} could be outliers.\")\n",
    "print(f\"Infubinol mice with Tumor Vol above {infu_upper_bound} could be outliers.\")\n",
    "print(f\"Infubinol Mice Tumor Vol. sorted in ascending order\\n {infu_sort}\")\n",
    "\n",
    "ceft_quart=ceft.quantile([0.25,.5,.75])\n",
    "ceft_lowerq=ceft_quart[0.25]\n",
    "ceft_upperq=ceft_quart[.75]\n",
    "ceft_iqr=ceft_upperq - ceft_lowerq\n",
    "ceft_upper_bound=ceft_upperq + (1.5*ceft_iqr)\n",
    "ceft_lower_bound=ceft_lowerq - (1.5*ceft_iqr)\n",
    "ceft_sort=ceft.sort_values()\n",
    "print(f\"Ceftamin mice with Tumor Vol. below {ceft_lower_bound} could be outliers.\")\n",
    "print(f\"Ceftamin mice with Tumor Vol above {ceft_upper_bound} could be outliers.\")\n",
    "print(f\"Ceftamin Mice Tumor Vol. sorted in ascending order\\n {ceft_sort}\")\n",
    "\n",
    "#I SEE NO OUTLIERS IN ANY OF THE FOUR DRUG REGIMENS, DATA SETS"
   ]
  },
  {
   "cell_type": "code",
   "execution_count": 68,
   "metadata": {},
   "outputs": [
    {
     "data": {
      "image/png": "[encoded data removed]",
      "text/plain": [
       "<Figure size 720x432 with 1 Axes>"
      ]
     },
     "metadata": {
      "needs_background": "light"
     },
     "output_type": "display_data"
    }
   ],
   "source": [
    "# Generate a box plot of the final tumor volume of each mouse across four regimens of interest\n",
    "\n",
    "#plt.figure(figsize=(2000,2000))\n",
    "#selected_mice.boxplot(by='Drug Regimen', column=['Tumor Volume (mm3)', figsize=(10,10)])\n",
    "#plt.ylabel('Tumor Volume (mm3)')\n",
    "data_to_plot=[capo, rami, infu, ceft]\n",
    "fig=plt.figure(1, figsize=(10,6))\n",
    "ax = fig.add_subplot(111)\n",
    "plt.boxplot(data_to_plot)\n",
    "ax.set_xticklabels(['Capomulin', 'Ramicane', 'Infubinol', 'Ceftamin'])\n",
    "plt.title('Final Tumor Volume by Drug Regimen')\n",
    "plt.ylabel('Tumor Volume (mm3)')\n",
    "plt.xlabel('Drug Regimen')\n",
    "plt.show()\n",
    "\n"
   ]
  },
  {
   "cell_type": "markdown",
   "metadata": {},
   "source": [
    "## Line and Scatter Plots"
   ]
  },
  {
   "cell_type": "code",
   "execution_count": null,
   "metadata": {},
   "outputs": [],
   "source": [
    "# Generate a line plot of tumor volume vs. time point for a mouse treated with Capomulin\n"
   ]
  },
  {
   "cell_type": "code",
   "execution_count": null,
   "metadata": {},
   "outputs": [],
   "source": [
    "# Generate a scatter plot of average tumor volume vs. mouse weight for the Capomulin regimen\n"
   ]
  },
  {
   "cell_type": "markdown",
   "metadata": {},
   "source": [
    "## Correlation and Regression"
   ]
  },
  {
   "cell_type": "code",
   "execution_count": null,
   "metadata": {},
   "outputs": [],
   "source": [
    "# Calculate the correlation coefficient and linear regression model \n",
    "# for mouse weight and average tumor volume for the Capomulin regimen\n"
   ]
  },
  {
   "cell_type": "code",
   "execution_count": null,
   "metadata": {},
   "outputs": [],
   "source": []
  }
 ],
 "metadata": {
  "anaconda-cloud": {},
  "kernelspec": {
   "display_name": "Python 3",
   "language": "python",
   "name": "python3"
  },
  "language_info": {
   "codemirror_mode": {
    "name": "ipython",
    "version": 3
   },
   "file_extension": ".py",
   "mimetype": "text/x-python",
   "name": "python",
   "nbconvert_exporter": "python",
   "pygments_lexer": "ipython3",
   "version": "3.6.10"
  }
 },
 "nbformat": 4,
 "nbformat_minor": 4
}
